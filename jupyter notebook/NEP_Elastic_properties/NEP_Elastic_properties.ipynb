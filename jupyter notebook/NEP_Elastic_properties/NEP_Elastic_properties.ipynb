{
 "cells": [
  {
   "cell_type": "markdown",
   "id": "360ee1e5",
   "metadata": {},
   "source": [
    "## NEP_Elastic_properties"
   ]
  },
  {
   "cell_type": "code",
   "execution_count": 1,
   "id": "f9cb74aa",
   "metadata": {},
   "outputs": [],
   "source": [
    "from ase.calculators.mixing import SumCalculator\n",
    "from ase.io import read\n",
    "from calorine.calculators import CPUNEP\n",
    "from calorine.tools import get_elastic_stiffness_tensor, relax_structure\n",
    "from dftd3.ase import DFTD3\n",
    "\n",
    "import sys\n",
    "import os\n",
    "import numpy as np\n",
    "\n",
    "def nep_calculator(filename=\"./nep.txt\", use_dftd3=False):\n",
    "    \"\"\"\n",
    "    配置NEP计算器，若需色散校正，则use_dftd3=True\n",
    "    \"\"\"\n",
    "    if os.path.exists(filename):\n",
    "        if use_dftd3:\n",
    "            return SumCalculator([CPUNEP(filename), DFTD3(method=\"pbe\", damping=\"d3bj\")])\n",
    "        return CPUNEP(filename)\n",
    "    print(f\"File {filename} does not exist.\")\n",
    "    sys.exit(1)\n",
    "\n",
    "def calculate_moduli(cij):\n",
    "    \"\"\"\n",
    "    根据弹性常数矩阵cij计算体积模量、剪切模量和杨氏模量。\n",
    "    \"\"\"\n",
    "    c11, c12, c44 = cij[0, 0], cij[0, 1], cij[3, 3]\n",
    "    \n",
    "    bulk_modulus = (c11 + 2 * c12) / 3\n",
    "    shear_modulus = (c11 - c12 + 3 * c44) / 5\n",
    "    youngs_modulus = (9 * bulk_modulus * shear_modulus) / (3 * bulk_modulus + shear_modulus)\n",
    "\n",
    "    return bulk_modulus, shear_modulus, youngs_modulus\n",
    "\n",
    "def check_stability_rhombohedral(cij):\n",
    "    \"\"\"\n",
    "    计算菱方相的机械稳定性条件值K1, K2, K3。\n",
    "    \"\"\"\n",
    "    c11, c12, c13, c33, c44, c14 = (\n",
    "        cij[0, 0], cij[0, 1], cij[0, 2],\n",
    "        cij[2, 2], cij[3, 3], cij[0, 3]\n",
    "    )\n",
    "    \n",
    "    K1 = c11 - c12\n",
    "    K2 = 0.5 * (c11 + c12) * c33 - c13**2\n",
    "    K3 = 0.5 * (c11 - c12) * c44 - c14**2\n",
    "\n",
    "    return K1, K2, K3"
   ]
  },
  {
   "cell_type": "code",
   "execution_count": 2,
   "id": "3412496f",
   "metadata": {},
   "outputs": [
    {
     "name": "stdout",
     "output_type": "stream",
     "text": [
      "Elastic stiffness tensor (GPa):\n",
      "[[ 76.9  22.7  25.2 -11.4  -0.   -0. ]\n",
      " [ 22.7  76.9  25.2  11.4  -0.   -0. ]\n",
      " [ 25.2  25.2  45.3  -0.   -0.   -0. ]\n",
      " [-11.4  11.4  -0.   20.5  -0.    0. ]\n",
      " [ -0.   -0.   -0.   -0.   20.5 -11.4]\n",
      " [ -0.   -0.   -0.    0.  -11.4  27.1]]\n",
      "\n",
      "Bulk Modulus (GPa): 40.8\n",
      "Shear Modulus (GPa): 23.2\n",
      "Young's Modulus (GPa): 58.4\n",
      "\n",
      "Stability Conditions for Rhombohedral Phase:\n",
      "K1 (GPa): 54.2\n",
      "K2 (GPa): 1618.6\n",
      "K3 (GPa): 427.1\n",
      "\n",
      "Is the rhombohedral structure mechanically stable? Yes\n"
     ]
    }
   ],
   "source": [
    "structure = read(\"./POSCAR\")\n",
    "structure.calc = nep_calculator(filename=\"../nep.txt\")\n",
    "\n",
    "relax_structure(structure, fmax=0.0001)\n",
    "\n",
    "cij = get_elastic_stiffness_tensor(structure, clamped=False, epsilon=0.01)\n",
    "with np.printoptions(precision=1, suppress=True):\n",
    "    print(\"Elastic stiffness tensor (GPa):\")\n",
    "    print(cij)\n",
    "\n",
    "bulk_modulus, shear_modulus, youngs_modulus = calculate_moduli(cij)\n",
    "print(f\"\\nBulk Modulus (GPa): {bulk_modulus:.1f}\")\n",
    "print(f\"Shear Modulus (GPa): {shear_modulus:.1f}\")\n",
    "print(f\"Young's Modulus (GPa): {youngs_modulus:.1f}\")\n",
    "\n",
    "K1, K2, K3 = check_stability_rhombohedral(cij)\n",
    "print(f\"\\nStability Conditions for Rhombohedral Phase:\")\n",
    "print(f\"K1 (GPa): {K1:.1f}\")\n",
    "print(f\"K2 (GPa): {K2:.1f}\")\n",
    "print(f\"K3 (GPa): {K3:.1f}\")\n",
    "\n",
    "is_stable = all([K1 > 0, K2 > 0, K3 > 0])\n",
    "print(f\"\\nIs the rhombohedral structure mechanically stable? {'Yes' if is_stable else 'No'}\")"
   ]
  }
 ],
 "metadata": {
  "kernelspec": {
   "display_name": "Python 3 (ipykernel)",
   "language": "python",
   "name": "python3"
  },
  "language_info": {
   "codemirror_mode": {
    "name": "ipython",
    "version": 3
   },
   "file_extension": ".py",
   "mimetype": "text/x-python",
   "name": "python",
   "nbconvert_exporter": "python",
   "pygments_lexer": "ipython3",
   "version": "3.10.11"
  }
 },
 "nbformat": 4,
 "nbformat_minor": 5
}
